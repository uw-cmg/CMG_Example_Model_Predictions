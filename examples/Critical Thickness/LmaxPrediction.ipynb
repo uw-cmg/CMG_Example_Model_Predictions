{
 "cells": [
  {
   "cell_type": "markdown",
   "id": "8fdec105",
   "metadata": {},
   "source": [
    " # Foundry Data/Model Notebook for Predicting Critical Sizes of Metallic Glasses"
   ]
  },
  {
   "cell_type": "markdown",
   "id": "b8caa46a",
   "metadata": {},
   "source": [
    "[![Open In Colab](https://colab.research.google.com/assets/colab-badge.svg)](https://colab.research.google.com/github/szhang655/CMG_Example_Model_Predictions/blob/dev_Shixin/examples/Critical%20Thickness/LmaxPrediction.ipynb)"
   ]
  },
  {
   "cell_type": "markdown",
   "id": "cedc3c0d",
   "metadata": {},
   "source": [
    "This is a regression machine learning model that takes in glass composition and returns Lmax as the maximum thickness that is fully amorphous using a wedge casting apparatus"
   ]
  },
  {
   "cell_type": "markdown",
   "id": "a9f4f996",
   "metadata": {},
   "source": [
    "## Set up environment"
   ]
  },
  {
   "cell_type": "code",
   "execution_count": null,
   "id": "24a88278",
   "metadata": {},
   "outputs": [],
   "source": [
    "!pip install foundry-ml\n",
    "!pip install pandas==1.3.5"
   ]
  },
  {
   "cell_type": "code",
   "execution_count": null,
   "id": "8fef6cd2",
   "metadata": {},
   "outputs": [],
   "source": [
    "import pandas as pd\n",
    "from dlhub_sdk.client import DLHubClient\n",
    "from foundry import Foundry"
   ]
  },
  {
   "cell_type": "markdown",
   "id": "1584c867",
   "metadata": {},
   "source": [
    "## Connecting to Foundry"
   ]
  },
  {
   "cell_type": "markdown",
   "id": "98a8d7ae",
   "metadata": {},
   "source": [
    "If this process is stuck, please try to interrupt this cell. It will return a globus link for authorization upon termination. The code will re-run after putting in the after putting in the authorization code will work."
   ]
  },
  {
   "cell_type": "code",
   "execution_count": null,
   "id": "6988c8ce",
   "metadata": {},
   "outputs": [],
   "source": [
    "f = Foundry()"
   ]
  },
  {
   "cell_type": "markdown",
   "id": "7483f751",
   "metadata": {},
   "source": [
    "## Get and show data"
   ]
  },
  {
   "cell_type": "markdown",
   "id": "b18c6087",
   "metadata": {},
   "source": [
    "\n",
    "* Data DOI: 10.18126/uxu4-kvnt\n",
    "\n",
    "* The input variale 'Composition' is the reported composition for the glass. In atomic percentage\n",
    "\n",
    "* The target variable 'Lmax' is the maximum thickness which is fully amorphous using a wedge casting apparatus\n"
   ]
  },
  {
   "cell_type": "code",
   "execution_count": null,
   "id": "92941318",
   "metadata": {},
   "outputs": [],
   "source": [
    "f.load('10.18126/uxu4-kvnt', globus=False)\n",
    "res = f.load_data()\n",
    "X = res['train'][0]\n",
    "y = res['train'][1]\n",
    "print(X)\n",
    "print(y)"
   ]
  },
  {
   "cell_type": "markdown",
   "id": "5d33aeb0",
   "metadata": {},
   "source": [
    "# Running Model"
   ]
  },
  {
   "cell_type": "markdown",
   "id": "61ede1e2",
   "metadata": {},
   "source": [
    "\n",
    "* Name: Shixin Zhang\n",
    "* Email: szhang655@wisc.edu\n",
    "* Date added/last modified in this notebook: 05/17/23\n",
    "* Foundry hosted data link: https://foundry-ml.org/#/datasets/10.18126%2Fuxu4-kvnt\n",
    "* Foundry hosted data DOI: 10.18126/uxu4-kvnt"
   ]
  },
  {
   "cell_type": "code",
   "execution_count": null,
   "id": "b3fc690a",
   "metadata": {},
   "outputs": [],
   "source": [
    "X_test = pd.DataFrame({'Composition': ['Al12.3 Cu28 Ni9 Zr50.7' , 'Al12.4 Cu8.8 La70 Ni8.8' , 'Al13 Cu29.25 Hf48 Ni9.75']})\n",
    "input_dict = {'X_test': X_test,\n",
    "             'featurize': True,\n",
    "             'featurizer': 'ElementalFeatureGenerator',\n",
    "             'featurize_on': 'Composition',\n",
    "              'composition_df': X_test['Composition']\n",
    "             }\n",
    "dlhub_servable = 'None/Lmax_prediction_v1.0'\n",
    "pred_df = DLHubClient().run(name=dlhub_servable, inputs=input_dict, debug=False, validate_input=False)\n",
    "pred_df"
   ]
  }
 ],
 "metadata": {
  "kernelspec": {
   "display_name": "Python 3 (ipykernel)",
   "language": "python",
   "name": "python3"
  },
  "language_info": {
   "codemirror_mode": {
    "name": "ipython",
    "version": 3
   },
   "file_extension": ".py",
   "mimetype": "text/x-python",
   "name": "python",
   "nbconvert_exporter": "python",
   "pygments_lexer": "ipython3",
   "version": "3.9.13"
  }
 },
 "nbformat": 4,
 "nbformat_minor": 5
}
