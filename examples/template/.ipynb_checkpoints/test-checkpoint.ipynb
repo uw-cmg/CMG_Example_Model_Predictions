{
 "cells": [
  {
   "cell_type": "markdown",
   "metadata": {
    "id": "MSKn3UTMT6FZ"
   },
   "source": [
    "# Diffusion Example for Data Loading and Model Execution"
   ]
  },
  {
   "cell_type": "markdown",
   "metadata": {},
   "source": [
    "[![Open In Colab](https://colab.research.google.com/assets/colab-badge.svg)](https://colab.research.google.com/github/uw-cmg/CMG_Example_Model_Predictions/blob/main/examples/diffusion/test.ipynb)"
   ]
  },
  {
   "cell_type": "markdown",
   "metadata": {},
   "source": [
    "## Set up environment\n"
   ]
  },
  {
   "cell_type": "code",
   "execution_count": null,
   "metadata": {
    "colab": {
     "base_uri": "https://localhost:8080/"
    },
    "id": "sfFk42m0XI6b",
    "outputId": "2a0da4aa-a4d8-49e2-f749-edc1114dfc5f"
   },
   "outputs": [],
   "source": [
    "# Install Foundry\n",
    "!pip install foundry-ml pandas==1.3.5"
   ]
  },
  {
   "cell_type": "code",
   "execution_count": null,
   "metadata": {
    "id": "OLCa6U-xUZSa"
   },
   "outputs": [],
   "source": [
    "# Import some generally useful modules\n",
    "from dlhub_sdk.client import DLHubClient\n",
    "from foundry import Foundry\n",
    "import pandas as pd"
   ]
  },
  {
   "cell_type": "markdown",
   "metadata": {
    "id": "JZjEYg2_SYqD"
   },
   "source": [
    "# Data+Model Template: Diffusion data and model"
   ]
  },
  {
   "cell_type": "markdown",
   "metadata": {
    "id": "YtY_pXgHU7XJ"
   },
   "source": [
    "## Get and show diffusion data\n",
    "\n"
   ]
  },
  {
   "cell_type": "markdown",
   "metadata": {
    "id": "gwRNY3AXWXE3"
   },
   "source": [
    "* Dataset 19\n",
    "* Relevant reference: H. J. Lu, N. Zou, R. Jacobs, B. Afflerbach, X. G. Lu, and D. Morgan, Error assessment and optimal cross-validation approaches in machine learning applied to impurity diffusion, Computational Materials Science 169 (July) (2019). https://doi.org/10.1016/j.commatsci.2019.06.010\n",
    "* Data DOI: 10.18126/uppe-p8p1 \n"
   ]
  },
  {
   "cell_type": "code",
   "execution_count": null,
   "metadata": {
    "colab": {
     "base_uri": "https://localhost:8080/"
    },
    "id": "cIhnvzKLW3zF",
    "outputId": "fa6cffb3-8be3-4f4c-86a0-50ca7e713256"
   },
   "outputs": [],
   "source": [
    "# Load and print out data\n",
    "f = Foundry(index=\"mdf\")\n",
    "data = f.load('diffusion_v1.4', globus=False).load_data()\n",
    "print(data)\n",
    "X = data['train'][0]  # Features pre-generation\n",
    "y = data['train'][1]  # Target variable\n",
    "print(X)\n",
    "print(y)"
   ]
  },
  {
   "cell_type": "markdown",
   "metadata": {
    "id": "1ZS2ch2BTtnP"
   },
   "source": [
    "## Get and show diffusion model\n",
    "* Name: Ryan Jacobs\n",
    "* Email: rjacobs3@wisc.edu\n",
    "* Relevant reference: H. J. Lu, N. Zou, R. Jacobs, B. Afflerbach, X. G. Lu, and D. Morgan, Error assessment and optimal cross-validation approaches in machine learning applied to impurity diffusion, Computational Materials Science 169 (July) (2019). https://doi.org/10.1016/j.commatsci.2019.06.010\n",
    "* Date added/last modified in this notebook: 10/18/22\n",
    "* Foundry hosted data link: https://foundry-ml.org/#/datasets/10.18126%2Fuppe-p8p1\n",
    "* Foundry hosted data DOI: 10.18126/uppe-p8p1 "
   ]
  },
  {
   "cell_type": "code",
   "execution_count": null,
   "metadata": {
    "colab": {
     "base_uri": "https://localhost:8080/"
    },
    "id": "nfW0wqY44XS9",
    "outputId": "7306d058-66d4-415f-b53d-9c9a71a027ae"
   },
   "outputs": [],
   "source": [
    "# Set servable to work with\n",
    "# Note that this first line should generate a link and the link \"Please Paste your Auth Code Below:\" with an box to enter your code from the link.\n",
    "dlhub_servable = 'rjacobs3_wisc/MASTML_Tutorial_Model_DLHub_v100_2022-10-13'\n",
    "# Pring out servable info\n",
    "desc=DLHubClient().describe_servable(dlhub_servable)\n",
    "#desc[\"servable\"].keys()\n",
    "print('Servible Name (if availble): ', desc['dlhub']['shorthand_name'])\n",
    "print('Servible Datacite (if availble): ', desc['datacite']['identifier']['identifier'])\n",
    "print('Servible DOI (if availble): ', desc['datacite']['identifier']['identifierType'])"
   ]
  },
  {
   "cell_type": "code",
   "execution_count": null,
   "metadata": {
    "colab": {
     "base_uri": "https://localhost:8080/",
     "height": 206
    },
    "id": "d10Z8GZnSacS",
    "outputId": "4cd216aa-2276-43d0-dcba-5e442cc11f9d"
   },
   "outputs": [],
   "source": [
    "# This model takes as input 2 elements, the first is the host and the second is an impurity, and it returns the activation energy for impurity diffusion.\n",
    "# For example, the input CuAg gives the activation energy of dilute Ag in a Cu host.\n",
    "X_test = pd.DataFrame({'Material compositions joined': ['CuAl', 'NiAl', 'HeH', 'NiSi', 'PtPd']})\n",
    "# Info on input format\n",
    "# DLHubClient().describe_servable(dlhub_servable)\n",
    "input_dict = {'X_test': X_test, #X_test_Ag_nofeatures\n",
    "              'X_test_extra': X_test, #X_extra_Ag\n",
    "             'featurize': True,\n",
    "             'featurizer': 'ElementalFeatureGenerator',\n",
    "             'featurize_on': 'Material compositions joined',\n",
    "              'composition_df': X_test['Material compositions joined'] #X_test_Ag_nofeatures['Material compositions joined']\n",
    "             }\n",
    "#dlhub_servable = MY_USERNAME+'/'+model_name\n",
    "pred_df = DLHubClient().run(name=dlhub_servable, inputs=input_dict, debug=False, validate_input=False)\n",
    "pred_df"
   ]
  }
 ],
 "metadata": {
  "colab": {
   "provenance": []
  },
  "kernelspec": {
   "display_name": "Python 3 (ipykernel)",
   "language": "python",
   "name": "python3"
  },
  "language_info": {
   "codemirror_mode": {
    "name": "ipython",
    "version": 3
   },
   "file_extension": ".py",
   "mimetype": "text/x-python",
   "name": "python",
   "nbconvert_exporter": "python",
   "pygments_lexer": "ipython3",
   "version": "3.10.6"
  }
 },
 "nbformat": 4,
 "nbformat_minor": 1
}
