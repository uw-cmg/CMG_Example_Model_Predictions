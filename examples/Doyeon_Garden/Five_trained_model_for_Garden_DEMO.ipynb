{
  "nbformat": 4,
  "nbformat_minor": 0,
  "metadata": {
    "colab": {
      "provenance": []
    },
    "kernelspec": {
      "name": "python3",
      "display_name": "Python 3"
    },
    "language_info": {
      "name": "python"
    }
  },
  "cells": [
    {
      "cell_type": "markdown",
      "source": [
        "# **Foundry & MAST_ML DEMO**"
      ],
      "metadata": {
        "id": "focLvQtnbL5l"
      }
    },
    {
      "cell_type": "code",
      "source": [
        "from google.colab import drive\n",
        "drive.mount('/content/drive', force_remount=True)"
      ],
      "metadata": {
        "colab": {
          "base_uri": "https://localhost:8080/"
        },
        "id": "tYb8C2g527Jy",
        "outputId": "6fc05fad-e1c0-4c25-84a5-8cc496f4247c"
      },
      "execution_count": 1,
      "outputs": [
        {
          "output_type": "stream",
          "name": "stdout",
          "text": [
            "Mounted at /content/drive\n"
          ]
        }
      ]
    },
    {
      "cell_type": "code",
      "source": [
        "%cd /content/drive/MyDrive/Research/DEMO"
      ],
      "metadata": {
        "colab": {
          "base_uri": "https://localhost:8080/"
        },
        "id": "r8McAJ1i28J-",
        "outputId": "cb7aebf4-0562-4d4f-d42a-9de2dfd31351"
      },
      "execution_count": 2,
      "outputs": [
        {
          "output_type": "stream",
          "name": "stdout",
          "text": [
            "/content/drive/MyDrive/Research/DEMO\n"
          ]
        }
      ]
    },
    {
      "cell_type": "code",
      "source": [
        "!pip install foundry-ml\n",
        "!pip install mastml"
      ],
      "metadata": {
        "colab": {
          "base_uri": "https://localhost:8080/"
        },
        "id": "6FTGj_ZYMV6V",
        "outputId": "ac79db63-b6fc-454b-af8f-781c1d5c4d0d"
      },
      "execution_count": 9,
      "outputs": [
        {
          "output_type": "stream",
          "name": "stdout",
          "text": [
            "Requirement already satisfied: foundry-ml in /usr/local/lib/python3.10/dist-packages (0.6.3)\n",
            "Requirement already satisfied: mdf-forge>=0.8.0 in /usr/local/lib/python3.10/dist-packages (from foundry-ml) (0.8.0)\n",
            "Requirement already satisfied: globus-sdk<4,>=3 in /usr/local/lib/python3.10/dist-packages (from foundry-ml) (3.23.0)\n",
            "Requirement already satisfied: dlhub-sdk>=1.0.0 in /usr/local/lib/python3.10/dist-packages (from foundry-ml) (2.1.0)\n",
            "Requirement already satisfied: numpy>=1.15.4 in /usr/local/lib/python3.10/dist-packages (from foundry-ml) (1.22.4)\n",
            "Requirement already satisfied: pandas>=0.23.4 in /usr/local/lib/python3.10/dist-packages (from foundry-ml) (1.5.3)\n",
            "Requirement already satisfied: pydantic>=1.4 in /usr/local/lib/python3.10/dist-packages (from foundry-ml) (1.10.9)\n",
            "Requirement already satisfied: mdf-connect-client>=0.4.0 in /usr/local/lib/python3.10/dist-packages (from foundry-ml) (0.4.1)\n",
            "Requirement already satisfied: h5py>=2.10.0 in /usr/local/lib/python3.10/dist-packages (from foundry-ml) (3.8.0)\n",
            "Requirement already satisfied: json2table in /usr/local/lib/python3.10/dist-packages (from foundry-ml) (1.1.5)\n",
            "Requirement already satisfied: requests>=2.24.0 in /usr/local/lib/python3.10/dist-packages (from dlhub-sdk>=1.0.0->foundry-ml) (2.27.1)\n",
            "Requirement already satisfied: mdf-toolbox>=0.5.4 in /usr/local/lib/python3.10/dist-packages (from dlhub-sdk>=1.0.0->foundry-ml) (0.6.0)\n",
            "Requirement already satisfied: jsonschema>=3.2.0 in /usr/local/lib/python3.10/dist-packages (from dlhub-sdk>=1.0.0->foundry-ml) (4.3.0)\n",
            "Requirement already satisfied: globus-compute-sdk>=2.0.0 in /usr/local/lib/python3.10/dist-packages (from dlhub-sdk>=1.0.0->foundry-ml) (2.2.3)\n",
            "Requirement already satisfied: PyGithub in /usr/local/lib/python3.10/dist-packages (from dlhub-sdk>=1.0.0->foundry-ml) (1.59.0)\n",
            "Requirement already satisfied: pyjwt[crypto]<3.0.0,>=2.0.0 in /usr/local/lib/python3.10/dist-packages (from globus-sdk<4,>=3->foundry-ml) (2.7.0)\n",
            "Requirement already satisfied: cryptography!=3.4.0,>=3.3.1 in /usr/local/lib/python3.10/dist-packages (from globus-sdk<4,>=3->foundry-ml) (41.0.1)\n",
            "Requirement already satisfied: nameparser>=1.0.4 in /usr/local/lib/python3.10/dist-packages (from mdf-connect-client>=0.4.0->foundry-ml) (1.1.2)\n",
            "Requirement already satisfied: tqdm>=4.19.4 in /usr/local/lib/python3.10/dist-packages (from mdf-forge>=0.8.0->foundry-ml) (4.65.0)\n",
            "Requirement already satisfied: python-dateutil>=2.8.1 in /usr/local/lib/python3.10/dist-packages (from pandas>=0.23.4->foundry-ml) (2.8.2)\n",
            "Requirement already satisfied: pytz>=2020.1 in /usr/local/lib/python3.10/dist-packages (from pandas>=0.23.4->foundry-ml) (2022.7.1)\n",
            "Requirement already satisfied: typing-extensions>=4.2.0 in /usr/local/lib/python3.10/dist-packages (from pydantic>=1.4->foundry-ml) (4.6.3)\n",
            "Requirement already satisfied: cffi>=1.12 in /usr/local/lib/python3.10/dist-packages (from cryptography!=3.4.0,>=3.3.1->globus-sdk<4,>=3->foundry-ml) (1.15.1)\n",
            "Requirement already satisfied: globus-compute-common==0.2.0 in /usr/local/lib/python3.10/dist-packages (from globus-compute-sdk>=2.0.0->dlhub-sdk>=1.0.0->foundry-ml) (0.2.0)\n",
            "Requirement already satisfied: websockets==10.3 in /usr/local/lib/python3.10/dist-packages (from globus-compute-sdk>=2.0.0->dlhub-sdk>=1.0.0->foundry-ml) (10.3)\n",
            "Requirement already satisfied: dill==0.3.5.1 in /usr/local/lib/python3.10/dist-packages (from globus-compute-sdk>=2.0.0->dlhub-sdk>=1.0.0->foundry-ml) (0.3.5.1)\n",
            "Requirement already satisfied: packaging>=21.1 in /usr/local/lib/python3.10/dist-packages (from globus-compute-sdk>=2.0.0->dlhub-sdk>=1.0.0->foundry-ml) (23.1)\n",
            "Requirement already satisfied: pika>=1.2 in /usr/local/lib/python3.10/dist-packages (from globus-compute-sdk>=2.0.0->dlhub-sdk>=1.0.0->foundry-ml) (1.3.2)\n",
            "Requirement already satisfied: tblib==1.7.0 in /usr/local/lib/python3.10/dist-packages (from globus-compute-sdk>=2.0.0->dlhub-sdk>=1.0.0->foundry-ml) (1.7.0)\n",
            "Requirement already satisfied: texttable>=1.6.7 in /usr/local/lib/python3.10/dist-packages (from globus-compute-sdk>=2.0.0->dlhub-sdk>=1.0.0->foundry-ml) (1.6.7)\n",
            "Requirement already satisfied: attrs>=17.4.0 in /usr/local/lib/python3.10/dist-packages (from jsonschema>=3.2.0->dlhub-sdk>=1.0.0->foundry-ml) (23.1.0)\n",
            "Requirement already satisfied: pyrsistent!=0.17.0,!=0.17.1,!=0.17.2,>=0.14.0 in /usr/local/lib/python3.10/dist-packages (from jsonschema>=3.2.0->dlhub-sdk>=1.0.0->foundry-ml) (0.19.3)\n",
            "Requirement already satisfied: fair-research-login>=0.2.4 in /usr/local/lib/python3.10/dist-packages (from mdf-toolbox>=0.5.4->dlhub-sdk>=1.0.0->foundry-ml) (0.3.0)\n",
            "Requirement already satisfied: globus-nexus-client>=0.4.1 in /usr/local/lib/python3.10/dist-packages (from mdf-toolbox>=0.5.4->dlhub-sdk>=1.0.0->foundry-ml) (0.4.1)\n",
            "Requirement already satisfied: six>=1.5 in /usr/local/lib/python3.10/dist-packages (from python-dateutil>=2.8.1->pandas>=0.23.4->foundry-ml) (1.16.0)\n",
            "Requirement already satisfied: urllib3<1.27,>=1.21.1 in /usr/local/lib/python3.10/dist-packages (from requests>=2.24.0->dlhub-sdk>=1.0.0->foundry-ml) (1.26.16)\n",
            "Requirement already satisfied: certifi>=2017.4.17 in /usr/local/lib/python3.10/dist-packages (from requests>=2.24.0->dlhub-sdk>=1.0.0->foundry-ml) (2023.5.7)\n",
            "Requirement already satisfied: charset-normalizer~=2.0.0 in /usr/local/lib/python3.10/dist-packages (from requests>=2.24.0->dlhub-sdk>=1.0.0->foundry-ml) (2.0.12)\n",
            "Requirement already satisfied: idna<4,>=2.5 in /usr/local/lib/python3.10/dist-packages (from requests>=2.24.0->dlhub-sdk>=1.0.0->foundry-ml) (3.4)\n",
            "Requirement already satisfied: deprecated in /usr/local/lib/python3.10/dist-packages (from PyGithub->dlhub-sdk>=1.0.0->foundry-ml) (1.2.14)\n",
            "Requirement already satisfied: pynacl>=1.4.0 in /usr/local/lib/python3.10/dist-packages (from PyGithub->dlhub-sdk>=1.0.0->foundry-ml) (1.5.0)\n",
            "Requirement already satisfied: pycparser in /usr/local/lib/python3.10/dist-packages (from cffi>=1.12->cryptography!=3.4.0,>=3.3.1->globus-sdk<4,>=3->foundry-ml) (2.21)\n",
            "Requirement already satisfied: wrapt<2,>=1.10 in /usr/local/lib/python3.10/dist-packages (from deprecated->PyGithub->dlhub-sdk>=1.0.0->foundry-ml) (1.14.1)\n",
            "Requirement already satisfied: mastml in /usr/local/lib/python3.10/dist-packages (3.1.7)\n",
            "Requirement already satisfied: citrination-client in /usr/local/lib/python3.10/dist-packages (from mastml) (6.5.1)\n",
            "Requirement already satisfied: dlhub-sdk in /usr/local/lib/python3.10/dist-packages (from mastml) (2.1.0)\n",
            "Requirement already satisfied: foundry-ml in /usr/local/lib/python3.10/dist-packages (from mastml) (0.6.3)\n",
            "Requirement already satisfied: globus-nexus-client in /usr/local/lib/python3.10/dist-packages (from mastml) (0.4.1)\n",
            "Requirement already satisfied: globus-sdk in /usr/local/lib/python3.10/dist-packages (from mastml) (3.23.0)\n",
            "Requirement already satisfied: matminer in /usr/local/lib/python3.10/dist-packages (from mastml) (0.9.0)\n",
            "Requirement already satisfied: matplotlib in /usr/local/lib/python3.10/dist-packages (from mastml) (3.7.1)\n",
            "Requirement already satisfied: mdf-forge in /usr/local/lib/python3.10/dist-packages (from mastml) (0.8.0)\n",
            "Requirement already satisfied: mdf-toolbox in /usr/local/lib/python3.10/dist-packages (from mastml) (0.6.0)\n",
            "Requirement already satisfied: numpy in /usr/local/lib/python3.10/dist-packages (from mastml) (1.22.4)\n",
            "Requirement already satisfied: openpyxl in /usr/local/lib/python3.10/dist-packages (from mastml) (3.0.10)\n",
            "Requirement already satisfied: pandas in /usr/local/lib/python3.10/dist-packages (from mastml) (1.5.3)\n",
            "Requirement already satisfied: pathos in /usr/local/lib/python3.10/dist-packages (from mastml) (0.2.9)\n",
            "Requirement already satisfied: pymatgen in /usr/local/lib/python3.10/dist-packages (from mastml) (2023.6.28)\n",
            "Requirement already satisfied: pyyaml==5.4.1 in /usr/local/lib/python3.10/dist-packages (from mastml) (5.4.1)\n",
            "Requirement already satisfied: scikit-learn==1.1.3 in /usr/local/lib/python3.10/dist-packages (from mastml) (1.1.3)\n",
            "Requirement already satisfied: scikit-optimize in /usr/local/lib/python3.10/dist-packages (from mastml) (0.9.0)\n",
            "Requirement already satisfied: scikit-learn-extra in /usr/local/lib/python3.10/dist-packages (from mastml) (0.3.0)\n",
            "Requirement already satisfied: scipy in /usr/local/lib/python3.10/dist-packages (from mastml) (1.10.1)\n",
            "Requirement already satisfied: shap in /usr/local/lib/python3.10/dist-packages (from mastml) (0.42.0)\n",
            "Requirement already satisfied: sphinx-automodapi in /usr/local/lib/python3.10/dist-packages (from mastml) (0.15.0)\n",
            "Requirement already satisfied: statsmodels in /usr/local/lib/python3.10/dist-packages (from mastml) (0.13.5)\n",
            "Requirement already satisfied: joblib>=1.0.0 in /usr/local/lib/python3.10/dist-packages (from scikit-learn==1.1.3->mastml) (1.2.0)\n",
            "Requirement already satisfied: threadpoolctl>=2.0.0 in /usr/local/lib/python3.10/dist-packages (from scikit-learn==1.1.3->mastml) (3.1.0)\n",
            "Requirement already satisfied: requests<3,>=2.20.0 in /usr/local/lib/python3.10/dist-packages (from citrination-client->mastml) (2.27.1)\n",
            "Requirement already satisfied: pypif in /usr/local/lib/python3.10/dist-packages (from citrination-client->mastml) (2.1.2)\n",
            "Requirement already satisfied: six<2 in /usr/local/lib/python3.10/dist-packages (from citrination-client->mastml) (1.16.0)\n",
            "Requirement already satisfied: jsonschema>=3.2.0 in /usr/local/lib/python3.10/dist-packages (from dlhub-sdk->mastml) (4.3.0)\n",
            "Requirement already satisfied: globus-compute-sdk>=2.0.0 in /usr/local/lib/python3.10/dist-packages (from dlhub-sdk->mastml) (2.2.3)\n",
            "Requirement already satisfied: pydantic in /usr/local/lib/python3.10/dist-packages (from dlhub-sdk->mastml) (1.10.9)\n",
            "Requirement already satisfied: PyGithub in /usr/local/lib/python3.10/dist-packages (from dlhub-sdk->mastml) (1.59.0)\n",
            "Requirement already satisfied: pyjwt[crypto]<3.0.0,>=2.0.0 in /usr/local/lib/python3.10/dist-packages (from globus-sdk->mastml) (2.7.0)\n",
            "Requirement already satisfied: cryptography!=3.4.0,>=3.3.1 in /usr/local/lib/python3.10/dist-packages (from globus-sdk->mastml) (41.0.1)\n",
            "Requirement already satisfied: fair-research-login>=0.2.4 in /usr/local/lib/python3.10/dist-packages (from mdf-toolbox->mastml) (0.3.0)\n",
            "Requirement already satisfied: mdf-connect-client>=0.4.0 in /usr/local/lib/python3.10/dist-packages (from foundry-ml->mastml) (0.4.1)\n",
            "Requirement already satisfied: h5py>=2.10.0 in /usr/local/lib/python3.10/dist-packages (from foundry-ml->mastml) (3.8.0)\n",
            "Requirement already satisfied: json2table in /usr/local/lib/python3.10/dist-packages (from foundry-ml->mastml) (1.1.5)\n",
            "Requirement already satisfied: tqdm>=4.19.4 in /usr/local/lib/python3.10/dist-packages (from mdf-forge->mastml) (4.65.0)\n",
            "Requirement already satisfied: python-dateutil>=2.8.1 in /usr/local/lib/python3.10/dist-packages (from pandas->mastml) (2.8.2)\n",
            "Requirement already satisfied: pytz>=2020.1 in /usr/local/lib/python3.10/dist-packages (from pandas->mastml) (2022.7.1)\n",
            "Requirement already satisfied: pymongo in /usr/local/lib/python3.10/dist-packages (from matminer->mastml) (4.4.0)\n",
            "Requirement already satisfied: future in /usr/local/lib/python3.10/dist-packages (from matminer->mastml) (0.18.3)\n",
            "Requirement already satisfied: sympy in /usr/local/lib/python3.10/dist-packages (from matminer->mastml) (1.11.1)\n",
            "Requirement already satisfied: monty in /usr/local/lib/python3.10/dist-packages (from matminer->mastml) (2023.5.8)\n",
            "Requirement already satisfied: contourpy>=1.0.1 in /usr/local/lib/python3.10/dist-packages (from matplotlib->mastml) (1.1.0)\n",
            "Requirement already satisfied: cycler>=0.10 in /usr/local/lib/python3.10/dist-packages (from matplotlib->mastml) (0.11.0)\n",
            "Requirement already satisfied: fonttools>=4.22.0 in /usr/local/lib/python3.10/dist-packages (from matplotlib->mastml) (4.40.0)\n",
            "Requirement already satisfied: kiwisolver>=1.0.1 in /usr/local/lib/python3.10/dist-packages (from matplotlib->mastml) (1.4.4)\n",
            "Requirement already satisfied: packaging>=20.0 in /usr/local/lib/python3.10/dist-packages (from matplotlib->mastml) (23.1)\n",
            "Requirement already satisfied: pillow>=6.2.0 in /usr/local/lib/python3.10/dist-packages (from matplotlib->mastml) (8.4.0)\n",
            "Requirement already satisfied: pyparsing>=2.3.1 in /usr/local/lib/python3.10/dist-packages (from matplotlib->mastml) (3.1.0)\n",
            "Requirement already satisfied: et-xmlfile in /usr/local/lib/python3.10/dist-packages (from openpyxl->mastml) (1.1.0)\n",
            "Requirement already satisfied: ppft>=1.7.6.5 in /usr/local/lib/python3.10/dist-packages (from pathos->mastml) (1.7.6.6)\n",
            "Requirement already satisfied: dill>=0.3.5.1 in /usr/local/lib/python3.10/dist-packages (from pathos->mastml) (0.3.5.1)\n",
            "Requirement already satisfied: pox>=0.3.1 in /usr/local/lib/python3.10/dist-packages (from pathos->mastml) (0.3.2)\n",
            "Requirement already satisfied: multiprocess>=0.70.13 in /usr/local/lib/python3.10/dist-packages (from pathos->mastml) (0.70.13)\n",
            "Requirement already satisfied: frozendict in /usr/local/lib/python3.10/dist-packages (from pymatgen->mastml) (2.3.8)\n",
            "Requirement already satisfied: mp-api<0.34.0,>=0.27.3 in /usr/local/lib/python3.10/dist-packages (from pymatgen->mastml) (0.33.3)\n",
            "Requirement already satisfied: networkx>=2.2 in /usr/local/lib/python3.10/dist-packages (from pymatgen->mastml) (3.1)\n",
            "Requirement already satisfied: palettable>=3.1.1 in /usr/local/lib/python3.10/dist-packages (from pymatgen->mastml) (3.3.3)\n",
            "Requirement already satisfied: plotly>=4.5.0 in /usr/local/lib/python3.10/dist-packages (from pymatgen->mastml) (5.13.1)\n",
            "Requirement already satisfied: pybtex in /usr/local/lib/python3.10/dist-packages (from pymatgen->mastml) (0.24.0)\n",
            "Requirement already satisfied: ruamel.yaml>=0.17.0 in /usr/local/lib/python3.10/dist-packages (from pymatgen->mastml) (0.17.32)\n",
            "Requirement already satisfied: spglib>=2.0.2 in /usr/local/lib/python3.10/dist-packages (from pymatgen->mastml) (2.0.2)\n",
            "Requirement already satisfied: tabulate in /usr/local/lib/python3.10/dist-packages (from pymatgen->mastml) (0.8.10)\n",
            "Requirement already satisfied: uncertainties>=3.1.4 in /usr/local/lib/python3.10/dist-packages (from pymatgen->mastml) (3.1.7)\n",
            "Requirement already satisfied: pyaml>=16.9 in /usr/local/lib/python3.10/dist-packages (from scikit-optimize->mastml) (23.7.0)\n",
            "Requirement already satisfied: slicer==0.0.7 in /usr/local/lib/python3.10/dist-packages (from shap->mastml) (0.0.7)\n",
            "Requirement already satisfied: numba in /usr/local/lib/python3.10/dist-packages (from shap->mastml) (0.56.4)\n",
            "Requirement already satisfied: cloudpickle in /usr/local/lib/python3.10/dist-packages (from shap->mastml) (2.2.1)\n",
            "Requirement already satisfied: sphinx>=2 in /usr/local/lib/python3.10/dist-packages (from sphinx-automodapi->mastml) (3.5.4)\n",
            "Requirement already satisfied: patsy>=0.5.2 in /usr/local/lib/python3.10/dist-packages (from statsmodels->mastml) (0.5.3)\n",
            "Requirement already satisfied: cffi>=1.12 in /usr/local/lib/python3.10/dist-packages (from cryptography!=3.4.0,>=3.3.1->globus-sdk->mastml) (1.15.1)\n",
            "Requirement already satisfied: globus-compute-common==0.2.0 in /usr/local/lib/python3.10/dist-packages (from globus-compute-sdk>=2.0.0->dlhub-sdk->mastml) (0.2.0)\n",
            "Requirement already satisfied: websockets==10.3 in /usr/local/lib/python3.10/dist-packages (from globus-compute-sdk>=2.0.0->dlhub-sdk->mastml) (10.3)\n",
            "Requirement already satisfied: pika>=1.2 in /usr/local/lib/python3.10/dist-packages (from globus-compute-sdk>=2.0.0->dlhub-sdk->mastml) (1.3.2)\n",
            "Requirement already satisfied: tblib==1.7.0 in /usr/local/lib/python3.10/dist-packages (from globus-compute-sdk>=2.0.0->dlhub-sdk->mastml) (1.7.0)\n",
            "Requirement already satisfied: texttable>=1.6.7 in /usr/local/lib/python3.10/dist-packages (from globus-compute-sdk>=2.0.0->dlhub-sdk->mastml) (1.6.7)\n",
            "Requirement already satisfied: attrs>=17.4.0 in /usr/local/lib/python3.10/dist-packages (from jsonschema>=3.2.0->dlhub-sdk->mastml) (23.1.0)\n",
            "Requirement already satisfied: pyrsistent!=0.17.0,!=0.17.1,!=0.17.2,>=0.14.0 in /usr/local/lib/python3.10/dist-packages (from jsonschema>=3.2.0->dlhub-sdk->mastml) (0.19.3)\n",
            "Requirement already satisfied: nameparser>=1.0.4 in /usr/local/lib/python3.10/dist-packages (from mdf-connect-client>=0.4.0->foundry-ml->mastml) (1.1.2)\n",
            "Requirement already satisfied: setuptools in /usr/local/lib/python3.10/dist-packages (from mp-api<0.34.0,>=0.27.3->pymatgen->mastml) (67.7.2)\n",
            "Requirement already satisfied: msgpack in /usr/local/lib/python3.10/dist-packages (from mp-api<0.34.0,>=0.27.3->pymatgen->mastml) (1.0.5)\n",
            "Requirement already satisfied: typing-extensions>=3.7.4.1 in /usr/local/lib/python3.10/dist-packages (from mp-api<0.34.0,>=0.27.3->pymatgen->mastml) (4.6.3)\n",
            "Requirement already satisfied: emmet-core>=0.54.0 in /usr/local/lib/python3.10/dist-packages (from mp-api<0.34.0,>=0.27.3->pymatgen->mastml) (0.58.2)\n",
            "Requirement already satisfied: tenacity>=6.2.0 in /usr/local/lib/python3.10/dist-packages (from plotly>=4.5.0->pymatgen->mastml) (8.2.2)\n",
            "Requirement already satisfied: urllib3<1.27,>=1.21.1 in /usr/local/lib/python3.10/dist-packages (from requests<3,>=2.20.0->citrination-client->mastml) (1.26.16)\n",
            "Requirement already satisfied: certifi>=2017.4.17 in /usr/local/lib/python3.10/dist-packages (from requests<3,>=2.20.0->citrination-client->mastml) (2023.5.7)\n",
            "Requirement already satisfied: charset-normalizer~=2.0.0 in /usr/local/lib/python3.10/dist-packages (from requests<3,>=2.20.0->citrination-client->mastml) (2.0.12)\n",
            "Requirement already satisfied: idna<4,>=2.5 in /usr/local/lib/python3.10/dist-packages (from requests<3,>=2.20.0->citrination-client->mastml) (3.4)\n",
            "Requirement already satisfied: ruamel.yaml.clib>=0.2.7 in /usr/local/lib/python3.10/dist-packages (from ruamel.yaml>=0.17.0->pymatgen->mastml) (0.2.7)\n",
            "Requirement already satisfied: sphinxcontrib-applehelp in /usr/local/lib/python3.10/dist-packages (from sphinx>=2->sphinx-automodapi->mastml) (1.0.4)\n",
            "Requirement already satisfied: sphinxcontrib-devhelp in /usr/local/lib/python3.10/dist-packages (from sphinx>=2->sphinx-automodapi->mastml) (1.0.2)\n",
            "Requirement already satisfied: sphinxcontrib-jsmath in /usr/local/lib/python3.10/dist-packages (from sphinx>=2->sphinx-automodapi->mastml) (1.0.1)\n",
            "Requirement already satisfied: sphinxcontrib-htmlhelp in /usr/local/lib/python3.10/dist-packages (from sphinx>=2->sphinx-automodapi->mastml) (2.0.1)\n",
            "Requirement already satisfied: sphinxcontrib-serializinghtml in /usr/local/lib/python3.10/dist-packages (from sphinx>=2->sphinx-automodapi->mastml) (1.1.5)\n",
            "Requirement already satisfied: sphinxcontrib-qthelp in /usr/local/lib/python3.10/dist-packages (from sphinx>=2->sphinx-automodapi->mastml) (1.0.3)\n",
            "Requirement already satisfied: Jinja2>=2.3 in /usr/local/lib/python3.10/dist-packages (from sphinx>=2->sphinx-automodapi->mastml) (3.1.2)\n",
            "Requirement already satisfied: Pygments>=2.0 in /usr/local/lib/python3.10/dist-packages (from sphinx>=2->sphinx-automodapi->mastml) (2.14.0)\n",
            "Requirement already satisfied: docutils<0.17,>=0.12 in /usr/local/lib/python3.10/dist-packages (from sphinx>=2->sphinx-automodapi->mastml) (0.16)\n",
            "Requirement already satisfied: snowballstemmer>=1.1 in /usr/local/lib/python3.10/dist-packages (from sphinx>=2->sphinx-automodapi->mastml) (2.2.0)\n",
            "Requirement already satisfied: babel>=1.3 in /usr/local/lib/python3.10/dist-packages (from sphinx>=2->sphinx-automodapi->mastml) (2.12.1)\n",
            "Requirement already satisfied: alabaster<0.8,>=0.7 in /usr/local/lib/python3.10/dist-packages (from sphinx>=2->sphinx-automodapi->mastml) (0.7.13)\n",
            "Requirement already satisfied: imagesize in /usr/local/lib/python3.10/dist-packages (from sphinx>=2->sphinx-automodapi->mastml) (1.4.1)\n",
            "Requirement already satisfied: llvmlite<0.40,>=0.39.0dev0 in /usr/local/lib/python3.10/dist-packages (from numba->shap->mastml) (0.39.1)\n",
            "Requirement already satisfied: latexcodec>=1.0.4 in /usr/local/lib/python3.10/dist-packages (from pybtex->pymatgen->mastml) (2.0.1)\n",
            "Requirement already satisfied: deprecated in /usr/local/lib/python3.10/dist-packages (from PyGithub->dlhub-sdk->mastml) (1.2.14)\n",
            "Requirement already satisfied: pynacl>=1.4.0 in /usr/local/lib/python3.10/dist-packages (from PyGithub->dlhub-sdk->mastml) (1.5.0)\n",
            "Requirement already satisfied: dnspython<3.0.0,>=1.16.0 in /usr/local/lib/python3.10/dist-packages (from pymongo->matminer->mastml) (2.3.0)\n",
            "Requirement already satisfied: mpmath>=0.19 in /usr/local/lib/python3.10/dist-packages (from sympy->matminer->mastml) (1.3.0)\n",
            "Requirement already satisfied: pycparser in /usr/local/lib/python3.10/dist-packages (from cffi>=1.12->cryptography!=3.4.0,>=3.3.1->globus-sdk->mastml) (2.21)\n",
            "Requirement already satisfied: MarkupSafe>=2.0 in /usr/local/lib/python3.10/dist-packages (from Jinja2>=2.3->sphinx>=2->sphinx-automodapi->mastml) (2.1.3)\n",
            "Requirement already satisfied: wrapt<2,>=1.10 in /usr/local/lib/python3.10/dist-packages (from deprecated->PyGithub->dlhub-sdk->mastml) (1.14.1)\n"
          ]
        }
      ]
    },
    {
      "cell_type": "code",
      "source": [
        "!pip install pandas==1.3.5"
      ],
      "metadata": {
        "colab": {
          "base_uri": "https://localhost:8080/"
        },
        "id": "cdPO0R3PWxTU",
        "outputId": "addaa0b7-c0ba-4167-de7f-cdb31cb3855e"
      },
      "execution_count": 2,
      "outputs": [
        {
          "output_type": "stream",
          "name": "stdout",
          "text": [
            "Collecting pandas==1.3.5\n",
            "  Downloading pandas-1.3.5-cp310-cp310-manylinux_2_17_x86_64.manylinux2014_x86_64.whl (11.5 MB)\n",
            "\u001b[2K     \u001b[90m━━━━━━━━━━━━━━━━━━━━━━━━━━━━━━━━━━━━━━━━\u001b[0m \u001b[32m11.5/11.5 MB\u001b[0m \u001b[31m29.2 MB/s\u001b[0m eta \u001b[36m0:00:00\u001b[0m\n",
            "\u001b[?25hRequirement already satisfied: python-dateutil>=2.7.3 in /usr/local/lib/python3.10/dist-packages (from pandas==1.3.5) (2.8.2)\n",
            "Requirement already satisfied: pytz>=2017.3 in /usr/local/lib/python3.10/dist-packages (from pandas==1.3.5) (2022.7.1)\n",
            "Requirement already satisfied: numpy>=1.21.0 in /usr/local/lib/python3.10/dist-packages (from pandas==1.3.5) (1.22.4)\n",
            "Requirement already satisfied: six>=1.5 in /usr/local/lib/python3.10/dist-packages (from python-dateutil>=2.7.3->pandas==1.3.5) (1.16.0)\n",
            "Installing collected packages: pandas\n",
            "  Attempting uninstall: pandas\n",
            "    Found existing installation: pandas 1.5.3\n",
            "    Uninstalling pandas-1.5.3:\n",
            "      Successfully uninstalled pandas-1.5.3\n",
            "\u001b[31mERROR: pip's dependency resolver does not currently take into account all the packages that are installed. This behaviour is the source of the following dependency conflicts.\n",
            "google-colab 1.0.0 requires pandas==1.5.3, but you have pandas 1.3.5 which is incompatible.\u001b[0m\u001b[31m\n",
            "\u001b[0mSuccessfully installed pandas-1.3.5\n"
          ]
        }
      ]
    },
    {
      "cell_type": "code",
      "source": [
        "########################\n",
        "\n",
        "# RESTART YOUR RUNTIME\n",
        "\n",
        "########################"
      ],
      "metadata": {
        "id": "5Lm2xHUAhBtA"
      },
      "execution_count": null,
      "outputs": []
    },
    {
      "cell_type": "code",
      "source": [
        "%cd /content/drive/MyDrive/Research/DEMO"
      ],
      "metadata": {
        "id": "R829BVUJ6frj"
      },
      "execution_count": null,
      "outputs": []
    },
    {
      "cell_type": "code",
      "source": [
        "\n",
        "import pandas as pd\n",
        "#from dlhub_sdk.client import DLHubClient\n",
        "from mastml.mastml_predictor import make_prediction_dlhub\n",
        "\n",
        "#This is the input with feature\n",
        "\n",
        "X_test_feat_dict = {'BCCefflatcnt_composition_average': {0: 6.031328777000001,\n",
        "                                      1: 6.775624431000001,\n",
        "                                      2: 6.006137348},\n",
        " 'BCCvolume_pa_composition_average': {0: 13.725, 1: 21.145, 2: 14.582},\n",
        " 'BoilingT_composition_average': {0: 4109.0, 1: 3020.0, 2: 654.884},\n",
        " 'BulkModulus_min_value': {0: 160.0, 1: 41.0, 2: 42.0},\n",
        " 'ElasticModulus_min_value': {0: 129.0, 1: 63.0, 2: 62.0},\n",
        " 'Electronegativity_composition_average': {0: 1.765, 1: 1.56, 2: 2.23},\n",
        " 'GSenergy_pa_arithmetic_average': {0: -9.6472059425,\n",
        "                                    1: -4.141104636665,\n",
        "                                    2: -4.5118077175},\n",
        " 'GSenergy_pa_composition_average': {0: -9.6472059425,\n",
        "                                     1: -4.141104636665,\n",
        "                                     2: -3.771881019},\n",
        " 'GSestBCClatcnt_composition_average': {0: 3.0101558115,\n",
        "                                        1: 3.3880248825,\n",
        "                                        2: 3.2710257494},\n",
        " 'GSestFCClatcnt_composition_average': {0: 3.7925586705,\n",
        "                                        1: 4.268643867,\n",
        "                                        2: 4.1212341964},\n",
        " 'GSvolume_pa_composition_average': {0: 13.6475, 1: 21.155, 2: 17.6045},\n",
        " 'HeatVaporization_composition_average': {0: 474.35, 1: 265.25, 2: 61.03912},\n",
        " 'ICSDVolume_composition_average': {0: 14.0, 1: 21.700000000000003, 2: 21.94},\n",
        " 'IonizationEnergy_arithmetic_average': {0: 676.0, 1: 658.7, 2: 1135.0},\n",
        " 'IsChalcogen_composition_average': {0: 0.0, 1: 0.0, 2: 0.0},\n",
        " 'MeltingT_composition_average': {0: 2306.5,\n",
        "                                  1: 1521.385,\n",
        "                                  2: 381.75200000000007},\n",
        " 'ShearModulus_min_value': {0: 47.0, 1: 25.0, 2: 19.0},\n",
        " 'ThermalExpansionCoefficient_composition_average': {0: 8.2,\n",
        "                                                     1: 13.05,\n",
        "                                                     2: 114.48},\n",
        " 'n_ws^third_arithmetic_average': {0: 1.725, 1: 1.345, 2: 1.4449999999999998},\n",
        " 'n_ws^third_composition_average': {0: 1.725, 1: 1.345, 2: 1.404}}\n",
        "\n",
        "X_test_feat = pd.DataFrame(X_test_feat_dict)\n",
        "input_dict_feat = {'X_test': X_test_feat}\n",
        "\n",
        "\n",
        "preds = make_prediction_dlhub(input_dict=input_dict_feat)\n",
        "print(preds)\n",
        "\"\"\"\n",
        "Variable model can be ~\n",
        "\n",
        "\"None/MASTML_thermal_expan_2023-05-10\"\n",
        "\"None/MASTML_thermal_conduc_2023-05-10\"\n",
        "\"None/MASTML_Aflow_shear_modulus_2023-05-10\"\n",
        "\"None/MASTML_Aflow_debye_temp_2023-05-10\"\n",
        "\"None/MASTML_Aflow_bulk_modulus_2023-05-10\"\n",
        "\n",
        "\n",
        "pred_df = Foundry().run(name=model, inputs=input_dict_feat, validate_input=False)\n",
        "pred_df\n",
        "\"\"\""
      ],
      "metadata": {
        "colab": {
          "base_uri": "https://localhost:8080/",
          "height": 906
        },
        "id": "grYqyHrQ9-L3",
        "outputId": "92b071a7-ca30-448e-8890-9470ca3e2d6e"
      },
      "execution_count": 4,
      "outputs": [
        {
          "output_type": "stream",
          "name": "stderr",
          "text": [
            "/usr/local/lib/python3.10/dist-packages/sklearn/base.py:329: UserWarning: Trying to unpickle estimator DecisionTreeRegressor from version 1.1.1 when using version 1.1.3. This might lead to breaking code or invalid results. Use at your own risk. For more info please refer to:\n",
            "https://scikit-learn.org/stable/model_persistence.html#security-maintainability-limitations\n",
            "  warnings.warn(\n"
          ]
        },
        {
          "output_type": "stream",
          "name": "stdout",
          "text": [
            "       y_pred      y_err\n",
            "0  255.425655  68.131660\n",
            "1  255.042361  68.015238\n",
            "2  254.032195  67.126794\n"
          ]
        },
        {
          "output_type": "stream",
          "name": "stderr",
          "text": [
            "/usr/local/lib/python3.10/dist-packages/sklearn/base.py:329: UserWarning: Trying to unpickle estimator RandomForestRegressor from version 1.1.1 when using version 1.1.3. This might lead to breaking code or invalid results. Use at your own risk. For more info please refer to:\n",
            "https://scikit-learn.org/stable/model_persistence.html#security-maintainability-limitations\n",
            "  warnings.warn(\n",
            "/usr/local/lib/python3.10/dist-packages/sklearn/base.py:329: UserWarning: Trying to unpickle estimator StandardScaler from version 1.1.1 when using version 1.1.3. This might lead to breaking code or invalid results. Use at your own risk. For more info please refer to:\n",
            "https://scikit-learn.org/stable/model_persistence.html#security-maintainability-limitations\n",
            "  warnings.warn(\n",
            "/usr/local/lib/python3.10/dist-packages/sklearn/base.py:493: FutureWarning: The feature names should match those that were passed during fit. Starting version 1.2, an error will be raised.\n",
            "Feature names unseen at fit time:\n",
            "- BCCefflatcnt_composition_average\n",
            "- BulkModulus_min_value\n",
            "- GSestBCClatcnt_composition_average\n",
            "- GSestFCClatcnt_composition_average\n",
            "- IonizationEnergy_arithmetic_average\n",
            "- ...\n",
            "Feature names seen at fit time, yet now missing:\n",
            "- AtomicVolume_difference\n",
            "- BCCenergy_pa_composition_average\n",
            "- HeatFusion_composition_average\n",
            "- HeatVaporization_max_value\n",
            "- IsSimpleCubic_composition_average\n",
            "- ...\n",
            "\n",
            "  warnings.warn(message, FutureWarning)\n",
            "/usr/local/lib/python3.10/dist-packages/sklearn/base.py:493: FutureWarning: The feature names should match those that were passed during fit. Starting version 1.2, an error will be raised.\n",
            "Feature names unseen at fit time:\n",
            "- BCCefflatcnt_composition_average\n",
            "- BulkModulus_min_value\n",
            "- GSestBCClatcnt_composition_average\n",
            "- GSestFCClatcnt_composition_average\n",
            "- IonizationEnergy_arithmetic_average\n",
            "- ...\n",
            "Feature names seen at fit time, yet now missing:\n",
            "- AtomicVolume_difference\n",
            "- BCCenergy_pa_composition_average\n",
            "- HeatFusion_composition_average\n",
            "- HeatVaporization_max_value\n",
            "- IsSimpleCubic_composition_average\n",
            "- ...\n",
            "\n",
            "  warnings.warn(message, FutureWarning)\n"
          ]
        },
        {
          "output_type": "execute_result",
          "data": {
            "text/plain": [
              "'\\nVariable model can be ~ \\n\\n\"None/MASTML_thermal_expan_2023-05-10\"\\n\"None/MASTML_thermal_conduc_2023-05-10\"\\n\"None/MASTML_Aflow_shear_modulus_2023-05-10\"\\n\"None/MASTML_Aflow_debye_temp_2023-05-10\"\\n\"None/MASTML_Aflow_bulk_modulus_2023-05-10\"\\n\\n\\npred_df = Foundry().run(name=model, inputs=input_dict_feat, validate_input=False)\\npred_df\\n'"
            ],
            "application/vnd.google.colaboratory.intrinsic+json": {
              "type": "string"
            }
          },
          "metadata": {},
          "execution_count": 4
        }
      ]
    },
    {
      "cell_type": "code",
      "source": [
        "#This is for without feature\n",
        "from dlhub_sdk.client import DLHubClient\n",
        "from foundry import Foundry\n",
        "X_test_nofeat_dict ={'No_feat': {0: \"Cu2Er1Si2\",\n",
        "                                      1: \"Hg1Y1\",\n",
        "                                      2: \"Pd1Sr1Tl2\"}}\n",
        "\n",
        "X_test_nofeat = pd.DataFrame(X_test_nofeat_dict)\n",
        "print(X_test_nofeat)\n",
        "\n",
        "input_dict_NoFeat = {'X_test': X_test_nofeat,\n",
        "             'featurize': True,\n",
        "             'featurizer': 'ElementalFeatureGenerator',\n",
        "             'featurize_on': 'No_feat',\n",
        "              'composition_df': X_test_nofeat['No_feat']\n",
        "             }\n",
        "\n",
        "model = \"None/MASTML_thermal_conduc_2023-05-10\"\n",
        "pred_df = Foundry().run(name=model, inputs=input_dict_NoFeat, validate_input=False)\n",
        "pred_df\n"
      ],
      "metadata": {
        "colab": {
          "base_uri": "https://localhost:8080/"
        },
        "id": "n1QHDewkDLUM",
        "outputId": "d1be276a-046b-4e90-8024-ce7df5b95cad"
      },
      "execution_count": null,
      "outputs": [
        {
          "output_type": "stream",
          "name": "stdout",
          "text": [
            "     No_feat\n",
            "0  Cu2Er1Si2\n",
            "1      Hg1Y1\n",
            "2  Pd1Sr1Tl2\n"
          ]
        }
      ]
    },
    {
      "cell_type": "code",
      "source": [
        "from foundry import Foundry\n",
        "\n",
        "input_dict = {'X_test': X_test_data}\n",
        "model = \"None/MASTML_thermal_conduc_2023-05-10\"\n",
        "pred_df = Foundry().run(name=model, inputs=input_dict, validate_input=False)\n",
        "pred_df"
      ],
      "metadata": {
        "colab": {
          "base_uri": "https://localhost:8080/",
          "height": 316
        },
        "id": "wSgKceuzNdmy",
        "outputId": "5a9cb5ba-41d9-4ae6-fafe-59e0d469302a"
      },
      "execution_count": null,
      "outputs": [
        {
          "name": "stdout",
          "output_type": "stream",
          "text": [
            "Starting login with Globus Auth, press ^C to cancel.\n",
            "Please paste the following URL in a browser:\n",
            "https://auth.globus.org/v2/oauth2/authorize?client_id=984464e2-90ab-433d-8145-ac0215d26c8e&redirect_uri=http%3A%2F%2Flocalhost%3A38567&scope=urn%3Aglobus%3Aauth%3Ascope%3Adata.materialsdatafacility.org%3Aall+https%3A%2F%2Fauth.globus.org%2Fscopes%2Fc17f27bb-f200-486a-b785-2a25e82af505%2Fconnect+urn%3Aglobus%3Aauth%3Ascope%3Asearch.api.globus.org%3Asearch+https%3A%2F%2Fauth.globus.org%2Fscopes%2F56ceac29-e98a-440a-a594-b41e7a084b62%2Fall+urn%3Aglobus%3Aauth%3Ascope%3Atransfer.api.globus.org%3Aall+https%3A%2F%2Fauth.globus.org%2Fscopes%2F81fc4156-a623-47f2-93ad-7184118226ba%2Fauth+openid+https%3A%2F%2Fauth.globus.org%2Fscopes%2Ffacd7ccc-c5f4-42aa-916b-a0e270e2c2a9%2Fall+https%3A%2F%2Fauth.globus.org%2Fscopes%2Ff10a69a9-338c-4e5b-baa1-0dc92359ab47%2Fhttps+https%3A%2F%2Fauth.globus.org%2Fscopes%2F82f1b5c6-6e9b-11e5-ba47-22000b92c6ec%2Fhttps+https%3A%2F%2Fauth.globus.org%2Fscopes%2Fd31d4f5d-be37-4adc-a761-2f716b7af105%2Faction_all&state=_default&response_type=code&code_challenge=ROpUtYNpItjIwJg2hok7kkvnGACj-0kHzagEfT18NmU&code_challenge_method=S256&access_type=offline&prefill_named_grant=Foundry+Login\n",
            "Please paste the following URL in a browser:\n",
            "https://auth.globus.org/v2/oauth2/authorize?client_id=984464e2-90ab-433d-8145-ac0215d26c8e&redirect_uri=https%3A%2F%2Fauth.globus.org%2Fv2%2Fweb%2Fauth-code&scope=urn%3Aglobus%3Aauth%3Ascope%3Adata.materialsdatafacility.org%3Aall+https%3A%2F%2Fauth.globus.org%2Fscopes%2Fc17f27bb-f200-486a-b785-2a25e82af505%2Fconnect+urn%3Aglobus%3Aauth%3Ascope%3Asearch.api.globus.org%3Asearch+https%3A%2F%2Fauth.globus.org%2Fscopes%2F56ceac29-e98a-440a-a594-b41e7a084b62%2Fall+urn%3Aglobus%3Aauth%3Ascope%3Atransfer.api.globus.org%3Aall+https%3A%2F%2Fauth.globus.org%2Fscopes%2F81fc4156-a623-47f2-93ad-7184118226ba%2Fauth+openid+https%3A%2F%2Fauth.globus.org%2Fscopes%2Ffacd7ccc-c5f4-42aa-916b-a0e270e2c2a9%2Fall+https%3A%2F%2Fauth.globus.org%2Fscopes%2Ff10a69a9-338c-4e5b-baa1-0dc92359ab47%2Fhttps+https%3A%2F%2Fauth.globus.org%2Fscopes%2F82f1b5c6-6e9b-11e5-ba47-22000b92c6ec%2Fhttps+https%3A%2F%2Fauth.globus.org%2Fscopes%2Fd31d4f5d-be37-4adc-a761-2f716b7af105%2Faction_all&state=_default&response_type=code&code_challenge=SXdseUezO9ASaWQm_1hZxSecOVY1s3yLYzh3jUVeTKE&code_challenge_method=S256&access_type=offline&prefill_named_grant=Foundry+Login\n",
            "Please Paste your Auth Code Below: \n",
            "giS8XBmJd38Y7AqbhNQ0UwNxvpxS0o\n"
          ]
        },
        {
          "output_type": "execute_result",
          "data": {
            "text/plain": [
              "     y_pred     y_err\n",
              "0  0.000220  0.000121\n",
              "1  0.000221  0.000122\n",
              "2  0.000222  0.000122"
            ],
            "text/html": [
              "\n",
              "  <div id=\"df-f3d79038-bce6-48f4-87c6-3bfea8452bb0\">\n",
              "    <div class=\"colab-df-container\">\n",
              "      <div>\n",
              "<style scoped>\n",
              "    .dataframe tbody tr th:only-of-type {\n",
              "        vertical-align: middle;\n",
              "    }\n",
              "\n",
              "    .dataframe tbody tr th {\n",
              "        vertical-align: top;\n",
              "    }\n",
              "\n",
              "    .dataframe thead th {\n",
              "        text-align: right;\n",
              "    }\n",
              "</style>\n",
              "<table border=\"1\" class=\"dataframe\">\n",
              "  <thead>\n",
              "    <tr style=\"text-align: right;\">\n",
              "      <th></th>\n",
              "      <th>y_pred</th>\n",
              "      <th>y_err</th>\n",
              "    </tr>\n",
              "  </thead>\n",
              "  <tbody>\n",
              "    <tr>\n",
              "      <th>0</th>\n",
              "      <td>0.000220</td>\n",
              "      <td>0.000121</td>\n",
              "    </tr>\n",
              "    <tr>\n",
              "      <th>1</th>\n",
              "      <td>0.000221</td>\n",
              "      <td>0.000122</td>\n",
              "    </tr>\n",
              "    <tr>\n",
              "      <th>2</th>\n",
              "      <td>0.000222</td>\n",
              "      <td>0.000122</td>\n",
              "    </tr>\n",
              "  </tbody>\n",
              "</table>\n",
              "</div>\n",
              "      <button class=\"colab-df-convert\" onclick=\"convertToInteractive('df-f3d79038-bce6-48f4-87c6-3bfea8452bb0')\"\n",
              "              title=\"Convert this dataframe to an interactive table.\"\n",
              "              style=\"display:none;\">\n",
              "        \n",
              "  <svg xmlns=\"http://www.w3.org/2000/svg\" height=\"24px\"viewBox=\"0 0 24 24\"\n",
              "       width=\"24px\">\n",
              "    <path d=\"M0 0h24v24H0V0z\" fill=\"none\"/>\n",
              "    <path d=\"M18.56 5.44l.94 2.06.94-2.06 2.06-.94-2.06-.94-.94-2.06-.94 2.06-2.06.94zm-11 1L8.5 8.5l.94-2.06 2.06-.94-2.06-.94L8.5 2.5l-.94 2.06-2.06.94zm10 10l.94 2.06.94-2.06 2.06-.94-2.06-.94-.94-2.06-.94 2.06-2.06.94z\"/><path d=\"M17.41 7.96l-1.37-1.37c-.4-.4-.92-.59-1.43-.59-.52 0-1.04.2-1.43.59L10.3 9.45l-7.72 7.72c-.78.78-.78 2.05 0 2.83L4 21.41c.39.39.9.59 1.41.59.51 0 1.02-.2 1.41-.59l7.78-7.78 2.81-2.81c.8-.78.8-2.07 0-2.86zM5.41 20L4 18.59l7.72-7.72 1.47 1.35L5.41 20z\"/>\n",
              "  </svg>\n",
              "      </button>\n",
              "      \n",
              "  <style>\n",
              "    .colab-df-container {\n",
              "      display:flex;\n",
              "      flex-wrap:wrap;\n",
              "      gap: 12px;\n",
              "    }\n",
              "\n",
              "    .colab-df-convert {\n",
              "      background-color: #E8F0FE;\n",
              "      border: none;\n",
              "      border-radius: 50%;\n",
              "      cursor: pointer;\n",
              "      display: none;\n",
              "      fill: #1967D2;\n",
              "      height: 32px;\n",
              "      padding: 0 0 0 0;\n",
              "      width: 32px;\n",
              "    }\n",
              "\n",
              "    .colab-df-convert:hover {\n",
              "      background-color: #E2EBFA;\n",
              "      box-shadow: 0px 1px 2px rgba(60, 64, 67, 0.3), 0px 1px 3px 1px rgba(60, 64, 67, 0.15);\n",
              "      fill: #174EA6;\n",
              "    }\n",
              "\n",
              "    [theme=dark] .colab-df-convert {\n",
              "      background-color: #3B4455;\n",
              "      fill: #D2E3FC;\n",
              "    }\n",
              "\n",
              "    [theme=dark] .colab-df-convert:hover {\n",
              "      background-color: #434B5C;\n",
              "      box-shadow: 0px 1px 3px 1px rgba(0, 0, 0, 0.15);\n",
              "      filter: drop-shadow(0px 1px 2px rgba(0, 0, 0, 0.3));\n",
              "      fill: #FFFFFF;\n",
              "    }\n",
              "  </style>\n",
              "\n",
              "      <script>\n",
              "        const buttonEl =\n",
              "          document.querySelector('#df-f3d79038-bce6-48f4-87c6-3bfea8452bb0 button.colab-df-convert');\n",
              "        buttonEl.style.display =\n",
              "          google.colab.kernel.accessAllowed ? 'block' : 'none';\n",
              "\n",
              "        async function convertToInteractive(key) {\n",
              "          const element = document.querySelector('#df-f3d79038-bce6-48f4-87c6-3bfea8452bb0');\n",
              "          const dataTable =\n",
              "            await google.colab.kernel.invokeFunction('convertToInteractive',\n",
              "                                                     [key], {});\n",
              "          if (!dataTable) return;\n",
              "\n",
              "          const docLinkHtml = 'Like what you see? Visit the ' +\n",
              "            '<a target=\"_blank\" href=https://colab.research.google.com/notebooks/data_table.ipynb>data table notebook</a>'\n",
              "            + ' to learn more about interactive tables.';\n",
              "          element.innerHTML = '';\n",
              "          dataTable['output_type'] = 'display_data';\n",
              "          await google.colab.output.renderOutput(dataTable, element);\n",
              "          const docLink = document.createElement('div');\n",
              "          docLink.innerHTML = docLinkHtml;\n",
              "          element.appendChild(docLink);\n",
              "        }\n",
              "      </script>\n",
              "    </div>\n",
              "  </div>\n",
              "  "
            ]
          },
          "metadata": {},
          "execution_count": 16
        }
      ]
    },
    {
      "cell_type": "code",
      "source": [],
      "metadata": {
        "id": "f-lUn6TofRWI"
      },
      "execution_count": null,
      "outputs": []
    }
  ]
}